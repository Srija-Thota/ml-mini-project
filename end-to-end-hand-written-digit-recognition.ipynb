{
 "cells": [
  {
   "cell_type": "markdown",
   "id": "d9a865be",
   "metadata": {},
   "source": [
    "# Import Libraries"
   ]
  },
  {
   "cell_type": "code",
   "execution_count": 65,
   "id": "0b53de85",
   "metadata": {},
   "outputs": [],
   "source": [
    "import tensorflow as tf\n",
    "import numpy as np\n",
    "import keras\n",
    "from keras.datasets import mnist\n",
    "from keras.models import Sequential\n",
    "from keras import backend as K\n",
    "from keras.layers import Dense, Dropout, Flatten\n",
    "from keras.layers import Conv2D, MaxPooling2D\n",
    "from keras.losses import SparseCategoricalCrossentropy\n"
   ]
  },
  {
   "cell_type": "markdown",
   "id": "e4c3fd3a",
   "metadata": {},
   "source": [
    "# Load Dataset"
   ]
  },
  {
   "cell_type": "code",
   "execution_count": 66,
   "id": "da1d3caf",
   "metadata": {},
   "outputs": [],
   "source": [
    "(X_train,Y_train),(x_test,y_test)=mnist.load_data()"
   ]
  },
  {
   "cell_type": "code",
   "execution_count": 67,
   "id": "6d753d41",
   "metadata": {},
   "outputs": [
    {
     "data": {
      "image/png": "[encoded data removed]",
      "text/plain": [
       "<Figure size 500x500 with 10 Axes>"
      ]
     },
     "metadata": {},
     "output_type": "display_data"
    }
   ],
   "source": [
    "import matplotlib.pyplot as plt\n",
    "\n",
    "fig, axes = plt.subplots(1, 10, figsize=(5, 5))\n",
    "for i in range(10):\n",
    "    axes[i].imshow(X_train[i], cmap='gray')\n",
    "    axes[i].axis('off')\n",
    "plt.show()"
   ]
  },
  {
   "cell_type": "code",
   "execution_count": 68,
   "id": "43adcb1d",
   "metadata": {},
   "outputs": [
    {
     "name": "stdout",
     "output_type": "stream",
     "text": [
      "(60000, 28, 28) (60000,) (10000, 28, 28) (10000,)\n"
     ]
    }
   ],
   "source": [
    "print(X_train.shape,Y_train.shape,x_test.shape,y_test.shape)"
   ]
  },
  {
   "cell_type": "markdown",
   "id": "a50de8c0",
   "metadata": {},
   "source": [
    "# Preprocessing the Data\n",
    "\n",
    "when working with categorical or multiclass classification problems,\n",
    "it is common to represent the target or output variable using one-hot encoding.\n",
    "It converts categorical variables into a binary matrix "
   ]
  },
  {
   "cell_type": "code",
   "execution_count": 78,
   "id": "9600adb5",
   "metadata": {},
   "outputs": [
    {
     "name": "stdout",
     "output_type": "stream",
     "text": [
      "X_train shape:  (60000, 28, 28, 1)\n"
     ]
    }
   ],
   "source": [
    "## X_train.shape[0] gives the no.of samples i.e 60000\n",
    "X_train = X_train.reshape(X_train.shape[0], 28, 28, 1)\n",
    "x_test = x_test.reshape(x_test.shape[0], 28, 28, 1)\n",
    "input_shape = (28, 28, 1)\n",
    "\n",
    "\n",
    "## y=[1,2,0,1] with num_classes=3 the using one-hot encoding it converts y into [[0,1,0],[0,0,1],[1,0,0],[0,1,0]]\n",
    "num_classes=10\n",
    "Y_train = keras.utils.to_categorical(Y_train, num_classes)\n",
    "y_test = keras.utils.to_categorical(y_test, num_classes)\n",
    "\n",
    "\n",
    "\n",
    "## convert the datatype into float(numerical)\n",
    "X_train=X_train.astype('float32')\n",
    "x_test=x_test.astype('float32')\n",
    "\n",
    "## color intensity range:(0-255),normalization is done so that model performs better when all the values are in range(0,1)\n",
    "X_train/=255\n",
    "x_test/=255\n",
    "\n",
    "## Print the shape\n",
    "print(\"X_train shape: \", X_train.shape)\n"
   ]
  },
  {
   "cell_type": "markdown",
   "id": "b7c6304b",
   "metadata": {},
   "source": [
    "# Creating our CNN Model"
   ]
  },
  {
   "cell_type": "code",
   "execution_count": 75,
   "id": "32960f04",
   "metadata": {},
   "outputs": [
    {
     "name": "stdout",
     "output_type": "stream",
     "text": [
      "(10000, 10) 10\n"
     ]
    }
   ],
   "source": [
    "from keras.callbacks import EarlyStopping\n",
    "batch_size = 128\n",
    "epochs = 10\n",
    "\n",
    "model = Sequential()\n",
    "\n",
    "## Here, 32 and 64 are the no. of filters and  a 3x3 kernel size means that each convolutional filter will scan a 3x3 neighborhood of pixels at a time.\n",
    "model.add(Conv2D(32, kernel_size=(3, 3),activation='relu',input_shape=input_shape))\n",
    "model.add(Conv2D(64, (3, 3), activation='relu'))\n",
    "\n",
    "## MaxPooling helps in reducing the size to half\n",
    "model.add(MaxPooling2D(pool_size=(2, 2)))\n",
    "\n",
    "## It randomnly drops out a fraction of neurons to avoid overfitting\n",
    "model.add(Dropout(0.25))\n",
    "\n",
    "## it flattens the dimension from 3D to 1D\n",
    "model.add(Flatten())\n",
    "\n",
    "model.add(Dense(256, activation='relu'))\n",
    "model.add(Dropout(0.5))\n",
    "model.add(Dense(num_classes, activation='softmax'))\n",
    "\n",
    "model.compile(loss=keras.losses.categorical_crossentropy,optimizer=keras.optimizers.Adam(0.001),metrics=['accuracy'])\n",
    "early_stopping = EarlyStopping(monitor='val_loss', patience=3, mode='min', verbose=1)\n",
    "\n",
    "print(y_test.shape,num_classes)"
   ]
  },
  {
   "cell_type": "markdown",
   "id": "d69848c7",
   "metadata": {},
   "source": [
    "## Fit the Model"
   ]
  },
  {
   "cell_type": "code",
   "execution_count": 76,
   "id": "bc9c437b",
   "metadata": {
    "scrolled": true
   },
   "outputs": [
    {
     "name": "stdout",
     "output_type": "stream",
     "text": [
      "Epoch 1/10\n",
      "469/469 [==============================] - 97s 204ms/step - loss: 0.1935 - accuracy: 0.9408 - val_loss: 0.0484 - val_accuracy: 0.9828\n",
      "Epoch 2/10\n",
      "469/469 [==============================] - 99s 212ms/step - loss: 0.0653 - accuracy: 0.9803 - val_loss: 0.0339 - val_accuracy: 0.9879\n",
      "Epoch 3/10\n",
      "469/469 [==============================] - 100s 214ms/step - loss: 0.0464 - accuracy: 0.9854 - val_loss: 0.0353 - val_accuracy: 0.9873\n",
      "Epoch 4/10\n",
      "469/469 [==============================] - 97s 206ms/step - loss: 0.0396 - accuracy: 0.9874 - val_loss: 0.0297 - val_accuracy: 0.9903\n",
      "Epoch 5/10\n",
      "469/469 [==============================] - 97s 207ms/step - loss: 0.0302 - accuracy: 0.9905 - val_loss: 0.0281 - val_accuracy: 0.9915\n",
      "Epoch 6/10\n",
      "469/469 [==============================] - 98s 208ms/step - loss: 0.0276 - accuracy: 0.9913 - val_loss: 0.0255 - val_accuracy: 0.9920\n",
      "Epoch 7/10\n",
      "469/469 [==============================] - 97s 207ms/step - loss: 0.0235 - accuracy: 0.9921 - val_loss: 0.0277 - val_accuracy: 0.9923\n",
      "Epoch 8/10\n",
      "469/469 [==============================] - 98s 209ms/step - loss: 0.0197 - accuracy: 0.9934 - val_loss: 0.0258 - val_accuracy: 0.9918\n",
      "Epoch 9/10\n",
      "469/469 [==============================] - 99s 211ms/step - loss: 0.0183 - accuracy: 0.9940 - val_loss: 0.0249 - val_accuracy: 0.9924\n",
      "Epoch 10/10\n",
      "469/469 [==============================] - 97s 207ms/step - loss: 0.0182 - accuracy: 0.9934 - val_loss: 0.0271 - val_accuracy: 0.9918\n",
      "The model has successfully trained\n",
      "Saving the model as mnist.h5\n"
     ]
    }
   ],
   "source": [
    "hist = model.fit(X_train, Y_train,batch_size=batch_size,epochs=epochs,verbose=1,validation_data=(x_test, y_test), callbacks=[early_stopping])\n",
    "print(\"The model has successfully trained\")\n",
    "\n",
    "model.save('mnist.h5')\n",
    "print(\"Saving the model as mnist.h5\")"
   ]
  },
  {
   "cell_type": "markdown",
   "id": "85f54e78",
   "metadata": {},
   "source": [
    "# Evaluate the Model"
   ]
  },
  {
   "cell_type": "code",
   "execution_count": 77,
   "id": "bda64981",
   "metadata": {},
   "outputs": [
    {
     "name": "stdout",
     "output_type": "stream",
     "text": [
      "Test loss: 0.027083266526460648\n",
      "Test accuracy: 0.9918000102043152\n"
     ]
    }
   ],
   "source": [
    "score = model.evaluate(x_test, y_test, verbose=0)\n",
    "print('Test loss:', score[0])\n",
    "print('Test accuracy:', score[1])"
   ]
  },
  {
   "cell_type": "code",
   "execution_count": null,
   "id": "833f5a36",
   "metadata": {},
   "outputs": [],
   "source": []
  }
 ],
 "metadata": {
  "kernelspec": {
   "display_name": "Python 3 (ipykernel)",
   "language": "python",
   "name": "python3"
  },
  "language_info": {
   "codemirror_mode": {
    "name": "ipython",
    "version": 3
   },
   "file_extension": ".py",
   "mimetype": "text/x-python",
   "name": "python",
   "nbconvert_exporter": "python",
   "pygments_lexer": "ipython3",
   "version": "3.11.3"
  }
 },
 "nbformat": 4,
 "nbformat_minor": 5
}
